{
  "nbformat": 4,
  "nbformat_minor": 0,
  "metadata": {
    "colab": {
      "provenance": [],
      "name": "ortalama-hesaplayip-dereclendirme.ipynb",
      "collapsed_sections": [],
      "authorship_tag": "ABX9TyPiaTnoA5E9sZEpZ8VmHgQj",
      "include_colab_link": true
    },
    "kernelspec": {
      "name": "python3",
      "display_name": "Python 3"
    },
    "language_info": {
      "name": "python"
    }
  },
  "cells": [
    {
      "cell_type": "markdown",
      "metadata": {
        "id": "view-in-github",
        "colab_type": "text"
      },
      "source": [
        "<a href=\"https://colab.research.google.com/github/berkay9605/kod-deneme/blob/main/ortalama_hesaplayip_dereclendirme.ipynb\" target=\"_parent\"><img src=\"https://colab.research.google.com/assets/colab-badge.svg\" alt=\"Open In Colab\"/></a>"
      ]
    },
    {
      "cell_type": "code",
      "source": [
        "sayı1=int(input(\"1.sınav notu\"))\n",
        "sayı2=int(input(\"2.sınav notu\"))\n",
        "sonuç=(sayı1+sayı2)/2\n",
        "print(f\"Ortalama={sayı1}+{sayı2}={sonuç}\")\n",
        "if 90<=sonuç>=100:\n",
        "  print(\"A\")\n",
        "elif 80<=sonuç>=89:\n",
        "  print(\"B\")\n",
        "elif 70<=sonuç>=79:\n",
        "  print(\"C\")\n",
        "elif 60<=sonuç>=69:\n",
        "  print(\"D\")\n",
        "elif 0<=sonuç>=89:\n",
        "  print(\"F\")"
      ],
      "metadata": {
        "id": "t3L2Tc4m61vb"
      },
      "execution_count": null,
      "outputs": []
    }
  ]
}