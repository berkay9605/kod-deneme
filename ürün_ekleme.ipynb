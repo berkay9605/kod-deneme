{
  "nbformat": 4,
  "nbformat_minor": 0,
  "metadata": {
    "colab": {
      "provenance": [],
      "authorship_tag": "ABX9TyO+t0Szs83jIojFsUJTQai9",
      "include_colab_link": true
    },
    "kernelspec": {
      "name": "python3",
      "display_name": "Python 3"
    },
    "language_info": {
      "name": "python"
    }
  },
  "cells": [
    {
      "cell_type": "markdown",
      "metadata": {
        "id": "view-in-github",
        "colab_type": "text"
      },
      "source": [
        "<a href=\"https://colab.research.google.com/github/berkay9605/kod-deneme/blob/main/%C3%BCr%C3%BCn_ekleme.ipynb\" target=\"_parent\"><img src=\"https://colab.research.google.com/assets/colab-badge.svg\" alt=\"Open In Colab\"/></a>"
      ]
    },
    {
      "cell_type": "code",
      "execution_count": 33,
      "metadata": {
        "colab": {
          "base_uri": "https://localhost:8080/"
        },
        "id": "zwxOQyAIBNSQ",
        "outputId": "44240ad1-8a6a-491b-d18b-6e477aa13d22"
      },
      "outputs": [
        {
          "output_type": "stream",
          "name": "stdout",
          "text": [
            "kaç adet ürün eklenecek:1\n",
            "ürün isim:albeni\n",
            "ürün fiyatı:4\n",
            "albeni:4TL\n"
          ]
        }
      ],
      "source": [
        "ürünler=[]\n",
        "adet=int(input(\"kaç adet ürün eklenecek:\"))\n",
        "i=0\n",
        "while i<adet:\n",
        "  name=input(\"ürün isim:\")\n",
        "  price=input(\"ürün fiyatı:\")\n",
        "  ürünler.append({\n",
        "      \"name\" : name,\n",
        "      \"price\" : price\n",
        "  })\n",
        "  i += 1\n",
        "for urun in ürünler:\n",
        "  print(f\"{urun['name']}:{urun['price']}TL\")"
      ]
    }
  ]
}